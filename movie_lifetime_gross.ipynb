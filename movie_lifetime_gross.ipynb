{
 "cells": [
  {
   "cell_type": "code",
   "execution_count": 1,
   "metadata": {},
   "outputs": [],
   "source": [
    "import requests\n",
    "from bs4 import BeautifulSoup\n",
    "import pandas as pd\n",
    "import datetime"
   ]
  },
  {
   "cell_type": "code",
   "execution_count": 2,
   "metadata": {},
   "outputs": [],
   "source": [
    "# Request to website and download HTML contents\n",
    "movie_url = \"https://www.boxofficemojo.com/year/world/2024/\"\n",
    "\n",
    "# Make a request\n",
    "req = requests.get(movie_url)\n",
    "content = req.text\n",
    "\n",
    "# Use Beautiful Soup\n",
    "soup = BeautifulSoup(content)\n"
   ]
  },
  {
   "cell_type": "code",
   "execution_count": 4,
   "metadata": {},
   "outputs": [
    {
     "data": {
      "text/plain": [
       "[<td class=\"a-text-right mojo-header-column mojo-truncate mojo-field-type-rank mojo-sort-column\">1</td>,\n",
       " <td class=\"a-text-left mojo-field-type-release_group\"><a class=\"a-link-normal\" href=\"/releasegroup/gr2058375685/?ref_=bo_ydw_table_1\">Dune: Part Two</a></td>,\n",
       " <td class=\"a-text-right mojo-field-type-money\">$711,844,358</td>,\n",
       " <td class=\"a-text-right mojo-field-type-money\">$282,144,358</td>,\n",
       " <td class=\"a-text-right mojo-field-type-percent\">39.6%</td>,\n",
       " <td class=\"a-text-right mojo-field-type-money\">$429,700,000</td>,\n",
       " <td class=\"a-text-right mojo-field-type-percent\">60.4%</td>]"
      ]
     },
     "execution_count": 4,
     "metadata": {},
     "output_type": "execute_result"
    }
   ],
   "source": [
    "# Inspect page data to determine out to set up the scraping algorithm\n",
    "rows = soup.findAll('tr')\n",
    "data = rows[1].findAll('td')\n",
    "data"
   ]
  },
  {
   "cell_type": "code",
   "execution_count": 5,
   "metadata": {},
   "outputs": [
    {
     "name": "stdout",
     "output_type": "stream",
     "text": [
      "1\n",
      "Dune: Part Two\n",
      "$711,844,358\n",
      "$282,144,358\n",
      "39.6%\n",
      "$429,700,000\n",
      "60.4%\n"
     ]
    }
   ],
   "source": [
    "# Inspect page data to determine out to set up the scraping algorithm\n",
    "\n",
    "for i in range(len(data)):\n",
    "    print(data[i].text)\n",
    "    "
   ]
  },
  {
   "cell_type": "code",
   "execution_count": 12,
   "metadata": {},
   "outputs": [
    {
     "data": {
      "text/plain": [
       "False"
      ]
     },
     "execution_count": 12,
     "metadata": {},
     "output_type": "execute_result"
    }
   ],
   "source": [
    "data[2].text == data[3].text"
   ]
  },
  {
   "cell_type": "code",
   "execution_count": 13,
   "metadata": {},
   "outputs": [],
   "source": [
    "#Test data construction\n",
    "\n",
    "appended_data = []\n",
    "for row in rows:\n",
    "    data_row = {}\n",
    "    data = row.findAll('td')\n",
    "    if len(data) == 0:\n",
    "        continue\n",
    "    if data[2].text == data[3].text:\n",
    "        #check if title makes released internationally\n",
    "        data_row['is_international'] = 'No'\n",
    "    else:\n",
    "        data_row['is_international'] = 'Yes'\n",
    "        \n",
    "    data_row['title'] = data[1].text\n",
    "    data_row['worldwide_gross'] = data[2].text\n",
    "    data_row['domestic_gross'] = data[3].text\n",
    "    data_row['domestic_percentage'] = data[4].text\n",
    "    data_row['foreign_gross'] = data[5].text\n",
    "    data_row['foreign_percentage'] = data[6].text.strip()\n",
    "    appended_data.append(data_row)\n",
    "movie_data = pd.DataFrame(appended_data, columns = ['title', 'worldwide_gross', 'domestic_gross', 'domestic_percentage', 'foreign_gross', 'foreign_percentage']) \n"
   ]
  },
  {
   "cell_type": "code",
   "execution_count": 14,
   "metadata": {},
   "outputs": [
    {
     "data": {
      "text/html": [
       "<div>\n",
       "<style scoped>\n",
       "    .dataframe tbody tr th:only-of-type {\n",
       "        vertical-align: middle;\n",
       "    }\n",
       "\n",
       "    .dataframe tbody tr th {\n",
       "        vertical-align: top;\n",
       "    }\n",
       "\n",
       "    .dataframe thead th {\n",
       "        text-align: right;\n",
       "    }\n",
       "</style>\n",
       "<table border=\"1\" class=\"dataframe\">\n",
       "  <thead>\n",
       "    <tr style=\"text-align: right;\">\n",
       "      <th></th>\n",
       "      <th>title</th>\n",
       "      <th>worldwide_gross</th>\n",
       "      <th>domestic_gross</th>\n",
       "      <th>domestic_percentage</th>\n",
       "      <th>foreign_gross</th>\n",
       "      <th>foreign_percentage</th>\n",
       "    </tr>\n",
       "  </thead>\n",
       "  <tbody>\n",
       "    <tr>\n",
       "      <th>0</th>\n",
       "      <td>Dune: Part Two</td>\n",
       "      <td>$711,844,358</td>\n",
       "      <td>$282,144,358</td>\n",
       "      <td>39.6%</td>\n",
       "      <td>$429,700,000</td>\n",
       "      <td>60.4%</td>\n",
       "    </tr>\n",
       "    <tr>\n",
       "      <th>1</th>\n",
       "      <td>Godzilla x Kong: The New Empire</td>\n",
       "      <td>$564,100,055</td>\n",
       "      <td>$194,800,055</td>\n",
       "      <td>34.5%</td>\n",
       "      <td>$369,300,000</td>\n",
       "      <td>65.5%</td>\n",
       "    </tr>\n",
       "    <tr>\n",
       "      <th>2</th>\n",
       "      <td>Kung Fu Panda 4</td>\n",
       "      <td>$536,661,406</td>\n",
       "      <td>$192,945,885</td>\n",
       "      <td>36%</td>\n",
       "      <td>$343,715,521</td>\n",
       "      <td>64%</td>\n",
       "    </tr>\n",
       "  </tbody>\n",
       "</table>\n",
       "</div>"
      ],
      "text/plain": [
       "                             title worldwide_gross domestic_gross  \\\n",
       "0                   Dune: Part Two    $711,844,358   $282,144,358   \n",
       "1  Godzilla x Kong: The New Empire    $564,100,055   $194,800,055   \n",
       "2                  Kung Fu Panda 4    $536,661,406   $192,945,885   \n",
       "\n",
       "  domestic_percentage foreign_gross foreign_percentage  \n",
       "0               39.6%  $429,700,000              60.4%  \n",
       "1               34.5%  $369,300,000              65.5%  \n",
       "2                 36%  $343,715,521                64%  "
      ]
     },
     "execution_count": 14,
     "metadata": {},
     "output_type": "execute_result"
    }
   ],
   "source": [
    "movie_data.head(3)"
   ]
  },
  {
   "cell_type": "code",
   "execution_count": 17,
   "metadata": {},
   "outputs": [],
   "source": [
    "# Create write function\n",
    "def scrape_movie_summary(year):\n",
    "    url=f'https://www.boxofficemojo.com/year/world/{year}/'\n",
    "    req=requests.get(url)\n",
    "    content=req.text\n",
    "    soup=BeautifulSoup(content)\n",
    "    rows=soup.findAll('tr')\n",
    "    appended_data = []\n",
    "\n",
    "    for row in rows:\n",
    "        data_row = {}\n",
    "        data = row.findAll('td')\n",
    "        if len(data) == 0:\n",
    "            continue\n",
    "        if data[2].text == data[3].text:\n",
    "            #check if title makes released internationally\n",
    "            data_row['is_international'] = 'No'\n",
    "        else:\n",
    "            data_row['is_international'] = 'Yes'\n",
    "        \n",
    "        data_row['title'] = data[1].text\n",
    "        data_row['worldwide_gross'] = data[2].text\n",
    "        data_row['domestic_gross'] = data[3].text\n",
    "        data_row['domestic_percentage'] = data[4].text\n",
    "        data_row['foreign_gross'] = data[5].text\n",
    "        data_row['foreign_percentage'] = data[6].text.strip()\n",
    "        appended_data.append(data_row)\n",
    "    \n",
    "        movie_data = pd.DataFrame(appended_data, columns = ['title', 'worldwide_gross', 'domestic_gross', 'domestic_percentage', 'foreign_gross', 'foreign_percentage', 'is_international']) \n",
    "\n",
    "    movie_data.to_csv(f'/Users/beek/GitHub_Repo/boxoffice_scaping_analysis/movie_worldwide_datasource/movie_worldwide_{year}.csv', index=False)"
   ]
  },
  {
   "cell_type": "code",
   "execution_count": 18,
   "metadata": {},
   "outputs": [
    {
     "name": "stdout",
     "output_type": "stream",
     "text": [
      "1982\n",
      "1983\n",
      "1984\n",
      "1985\n",
      "1986\n",
      "1987\n",
      "1988\n",
      "1989\n",
      "1990\n",
      "1991\n",
      "1992\n",
      "1993\n",
      "1994\n",
      "1995\n",
      "1996\n",
      "1997\n",
      "1998\n",
      "1999\n",
      "2000\n",
      "2001\n",
      "2002\n",
      "2003\n",
      "2004\n",
      "2005\n",
      "2006\n",
      "2007\n",
      "2008\n",
      "2009\n",
      "2010\n",
      "2011\n",
      "2012\n",
      "2013\n",
      "2014\n",
      "2015\n",
      "2016\n",
      "2017\n",
      "2018\n",
      "2019\n",
      "2020\n",
      "2021\n",
      "2022\n",
      "2023\n",
      "2024\n"
     ]
    }
   ],
   "source": [
    "#Get current year\n",
    "todays_date = datetime.date.today()\n",
    "current_year = todays_date.year\n",
    "\n",
    "years = range(1982, current_year+1)\n",
    "\n",
    "for year in years:\n",
    "    print(year)\n",
    "    scrape_movie_summary(year)"
   ]
  },
  {
   "cell_type": "code",
   "execution_count": null,
   "metadata": {},
   "outputs": [],
   "source": []
  }
 ],
 "metadata": {
  "kernelspec": {
   "display_name": "Python 3",
   "language": "python",
   "name": "python3"
  },
  "language_info": {
   "codemirror_mode": {
    "name": "ipython",
    "version": 3
   },
   "file_extension": ".py",
   "mimetype": "text/x-python",
   "name": "python",
   "nbconvert_exporter": "python",
   "pygments_lexer": "ipython3",
   "version": "3.11.4"
  }
 },
 "nbformat": 4,
 "nbformat_minor": 2
}
